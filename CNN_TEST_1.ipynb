{
 "cells": [
  {
   "cell_type": "code",
   "execution_count": 2,
   "id": "1f9a07ce",
   "metadata": {},
   "outputs": [],
   "source": [
    "import os\n",
    "import numpy as np\n",
    "import tensorflow as tf\n",
    "from tensorflow.keras.preprocessing.image import ImageDataGenerator\n",
    "from tensorflow.keras.models import Sequential\n",
    "from tensorflow.keras.layers import Conv2D, MaxPooling2D, Flatten, Dense, Dropout\n",
    "from sklearn.metrics import classification_report\n",
    "\n",
    "# Define data directories\n",
    "data_dir = 'C:/Users/SSC/OneDrive/Desktop/Phase 3/Dataset'  # Replace with the actual path to your data directory\n",
    "train_dir = os.path.join(data_dir, 'Training')\n",
    "test_dir = os.path.join(data_dir, 'Testing')\n",
    "validation_dir = os.path.join(data_dir, 'Validation')\n"
   ]
  },
  {
   "cell_type": "code",
   "execution_count": 3,
   "id": "c3f8ea5d",
   "metadata": {},
   "outputs": [],
   "source": [
    "# Define data split ratios\n",
    "train_ratio = 0.7\n",
    "validation_ratio = 0.15\n",
    "test_ratio = 0.15\n",
    "\n",
    "# Define image dimensions and batch size\n",
    "img_width, img_height = 150, 150\n",
    "batch_size = 32\n"
   ]
  },
  {
   "cell_type": "code",
   "execution_count": 4,
   "id": "cee6ea1c",
   "metadata": {},
   "outputs": [],
   "source": [
    "# Function to create and compile the CNN model\n",
    "def create_model():\n",
    "    model = Sequential([\n",
    "        Conv2D(32, (3, 3), activation='relu', input_shape=(img_width, img_height, 3)),\n",
    "        MaxPooling2D(2, 2),\n",
    "        Conv2D(64, (3, 3), activation='relu'),\n",
    "        MaxPooling2D(2, 2),\n",
    "        Conv2D(128, (3, 3), activation='relu'),\n",
    "        MaxPooling2D(2, 2),\n",
    "        Flatten(),\n",
    "        Dense(512, activation='relu'),\n",
    "        Dropout(0.5),\n",
    "        Dense(1, activation='sigmoid')\n",
    "    ])\n",
    "    \n",
    "    model.compile(optimizer='adam', loss='binary_crossentropy', metrics=['accuracy'])\n",
    "    return model\n"
   ]
  },
  {
   "cell_type": "code",
   "execution_count": 5,
   "id": "01b118bc",
   "metadata": {},
   "outputs": [],
   "source": [
    "# Create data generators with data augmentation for training data\n",
    "train_datagen = ImageDataGenerator(\n",
    "    rescale=1.0/255.0,\n",
    "    rotation_range=40,\n",
    "    width_shift_range=0.2,\n",
    "    height_shift_range=0.2,\n",
    "    shear_range=0.2,\n",
    "    zoom_range=0.2,\n",
    "    horizontal_flip=True,\n",
    "    fill_mode='nearest'\n",
    ")\n",
    "\n",
    "# Data generators for validation and testing (no data augmentation)\n",
    "validation_datagen = ImageDataGenerator(rescale=1.0/255.0)\n",
    "test_datagen = ImageDataGenerator(rescale=1.0/255.0)\n"
   ]
  },
  {
   "cell_type": "code",
   "execution_count": 6,
   "id": "123cd2d9",
   "metadata": {},
   "outputs": [
    {
     "name": "stdout",
     "output_type": "stream",
     "text": [
      "Found 4200 images belonging to 2 classes.\n",
      "Found 1200 images belonging to 2 classes.\n",
      "Found 600 images belonging to 2 classes.\n"
     ]
    }
   ],
   "source": [
    "# Create data generators\n",
    "train_generator = train_datagen.flow_from_directory(\n",
    "    train_dir,\n",
    "    target_size=(img_width, img_height),\n",
    "    batch_size=batch_size,\n",
    "    class_mode='binary'\n",
    ")\n",
    "\n",
    "validation_generator = validation_datagen.flow_from_directory(\n",
    "    validation_dir,\n",
    "    target_size=(img_width, img_height),\n",
    "    batch_size=batch_size,\n",
    "    class_mode='binary'\n",
    ")\n",
    "\n",
    "test_generator = test_datagen.flow_from_directory(\n",
    "    test_dir,\n",
    "    target_size=(img_width, img_height),\n",
    "    batch_size=batch_size,\n",
    "    class_mode='binary'\n",
    ")\n"
   ]
  },
  {
   "cell_type": "code",
   "execution_count": 7,
   "id": "cbb4f932",
   "metadata": {},
   "outputs": [
    {
     "name": "stdout",
     "output_type": "stream",
     "text": [
      "Epoch 1/5\n",
      "132/132 [==============================] - 98s 731ms/step - loss: 0.6791 - accuracy: 0.5895 - val_loss: 0.6036 - val_accuracy: 0.7117\n",
      "Epoch 2/5\n",
      "132/132 [==============================] - 106s 804ms/step - loss: 0.6170 - accuracy: 0.6707 - val_loss: 0.5139 - val_accuracy: 0.7842\n",
      "Epoch 3/5\n",
      "132/132 [==============================] - 99s 749ms/step - loss: 0.5962 - accuracy: 0.6900 - val_loss: 0.5051 - val_accuracy: 0.7725\n",
      "Epoch 4/5\n",
      "132/132 [==============================] - 101s 767ms/step - loss: 0.5814 - accuracy: 0.7060 - val_loss: 0.4408 - val_accuracy: 0.7925\n",
      "Epoch 5/5\n",
      "132/132 [==============================] - 114s 860ms/step - loss: 0.5636 - accuracy: 0.7200 - val_loss: 0.4216 - val_accuracy: 0.8225\n"
     ]
    }
   ],
   "source": [
    "# Create and train the model\n",
    "model = create_model()\n",
    "epochs = 5  # You can adjust the number of epochs\n",
    "history = model.fit(\n",
    "    train_generator,\n",
    "    steps_per_epoch=len(train_generator),\n",
    "    epochs=epochs,\n",
    "    validation_data=validation_generator,\n",
    "    validation_steps=len(validation_generator)\n",
    ")\n"
   ]
  },
  {
   "cell_type": "code",
   "execution_count": 8,
   "id": "92ca77d3",
   "metadata": {},
   "outputs": [
    {
     "name": "stdout",
     "output_type": "stream",
     "text": [
      "19/19 [==============================] - 7s 379ms/step - loss: 0.4302 - accuracy: 0.8283\n",
      "Test Accuracy: 0.82833331823349\n"
     ]
    }
   ],
   "source": [
    "# Evaluate the model on the test set\n",
    "test_loss, test_accuracy = model.evaluate(test_generator, steps=len(test_generator))\n",
    "print(f\"Test Accuracy: {test_accuracy}\")\n"
   ]
  },
  {
   "cell_type": "code",
   "execution_count": 9,
   "id": "460348dd",
   "metadata": {},
   "outputs": [
    {
     "name": "stdout",
     "output_type": "stream",
     "text": [
      "19/19 [==============================] - 3s 146ms/step\n",
      "Test Accuracy: 0.4716666666666667\n",
      "Precision: 0.4717607973421927\n",
      "Recall: 0.47333333333333333\n",
      "F1-Score: 0.4725457570715474\n",
      "              precision    recall  f1-score   support\n",
      "\n",
      "           F       0.47      0.47      0.47       300\n",
      "           M       0.47      0.47      0.47       300\n",
      "\n",
      "    accuracy                           0.47       600\n",
      "   macro avg       0.47      0.47      0.47       600\n",
      "weighted avg       0.47      0.47      0.47       600\n",
      "\n"
     ]
    }
   ],
   "source": [
    "# Import precision_score, recall_score, f1_score, and accuracy_score\n",
    "from sklearn.metrics import precision_score, recall_score, f1_score, accuracy_score\n",
    "\n",
    "# Make predictions on the test set\n",
    "predictions = model.predict(test_generator)\n",
    "predicted_classes = np.round(predictions)\n",
    "\n",
    "# Generate a classification report\n",
    "true_classes = test_generator.classes\n",
    "class_labels = list(test_generator.class_indices.keys())\n",
    "\n",
    "accuracy = accuracy_score(true_classes, predicted_classes)\n",
    "precision = precision_score(true_classes, predicted_classes)\n",
    "recall = recall_score(true_classes, predicted_classes)\n",
    "f1 = f1_score(true_classes, predicted_classes)\n",
    "\n",
    "print(f\"Test Accuracy: {accuracy}\")\n",
    "print(f\"Precision: {precision}\")\n",
    "print(f\"Recall: {recall}\")\n",
    "print(f\"F1-Score: {f1}\")\n",
    "\n",
    "report = classification_report(true_classes, predicted_classes, target_names=class_labels)\n",
    "print(report)\n"
   ]
  },
  {
   "cell_type": "code",
   "execution_count": 10,
   "id": "f9efff19",
   "metadata": {},
   "outputs": [],
   "source": [
    "# Updated model architecture\n",
    "def create_updated_model():\n",
    "    model = Sequential([\n",
    "        Conv2D(64, (3, 3), activation='relu', input_shape=(img_width, img_height, 3)),\n",
    "        MaxPooling2D(2, 2),\n",
    "        Conv2D(128, (3, 3), activation='relu'),\n",
    "        MaxPooling2D(2, 2),\n",
    "        Conv2D(256, (3, 3), activation='relu'),\n",
    "        MaxPooling2D(2, 2),\n",
    "        Flatten(),\n",
    "        Dense(512, activation='relu'),\n",
    "        Dropout(0.5),\n",
    "        Dense(1, activation='sigmoid')\n",
    "    ])\n",
    "\n",
    "    model.compile(optimizer='adam', loss='binary_crossentropy', metrics=['accuracy'])\n",
    "    return model\n"
   ]
  },
  {
   "cell_type": "code",
   "execution_count": 11,
   "id": "0792e9e1",
   "metadata": {},
   "outputs": [
    {
     "name": "stdout",
     "output_type": "stream",
     "text": [
      "Epoch 1/5\n",
      "132/132 [==============================] - 264s 2s/step - loss: 0.6930 - accuracy: 0.5595 - val_loss: 0.5691 - val_accuracy: 0.7133\n",
      "Epoch 2/5\n",
      "132/132 [==============================] - 248s 2s/step - loss: 0.6204 - accuracy: 0.6712 - val_loss: 0.6069 - val_accuracy: 0.7242\n",
      "Epoch 3/5\n",
      "132/132 [==============================] - 258s 2s/step - loss: 0.6061 - accuracy: 0.6888 - val_loss: 0.5149 - val_accuracy: 0.7342\n",
      "Epoch 4/5\n",
      "132/132 [==============================] - 247s 2s/step - loss: 0.5817 - accuracy: 0.7079 - val_loss: 0.4469 - val_accuracy: 0.7983\n",
      "Epoch 5/5\n",
      "132/132 [==============================] - 249s 2s/step - loss: 0.5617 - accuracy: 0.7238 - val_loss: 0.4587 - val_accuracy: 0.7958\n"
     ]
    }
   ],
   "source": [
    "# Create and train the updated model\n",
    "updated_model = create_updated_model()\n",
    "epochs = 5  # Increase the number of epochs\n",
    "history = updated_model.fit(\n",
    "    train_generator,\n",
    "    steps_per_epoch=len(train_generator),\n",
    "    epochs=epochs,\n",
    "    validation_data=validation_generator,\n",
    "    validation_steps=len(validation_generator)\n",
    ")\n"
   ]
  },
  {
   "cell_type": "code",
   "execution_count": 12,
   "id": "7034f8a4",
   "metadata": {},
   "outputs": [
    {
     "name": "stdout",
     "output_type": "stream",
     "text": [
      "19/19 [==============================] - 6s 289ms/step - loss: 0.4512 - accuracy: 0.8117\n",
      "Test Accuracy: 0.8116666674613953\n"
     ]
    }
   ],
   "source": [
    "# Evaluate the updated model\n",
    "test_loss, test_accuracy = updated_model.evaluate(test_generator, steps=len(test_generator))\n",
    "print(f\"Test Accuracy: {test_accuracy}\")\n"
   ]
  },
  {
   "cell_type": "code",
   "execution_count": 13,
   "id": "0c613076",
   "metadata": {},
   "outputs": [
    {
     "name": "stdout",
     "output_type": "stream",
     "text": [
      "19/19 [==============================] - 6s 306ms/step\n",
      "Test Accuracy: 0.48833333333333334\n",
      "Precision: 0.4885245901639344\n",
      "Recall: 0.49666666666666665\n",
      "F1-Score: 0.4925619834710743\n",
      "              precision    recall  f1-score   support\n",
      "\n",
      "           F       0.49      0.48      0.48       300\n",
      "           M       0.49      0.50      0.49       300\n",
      "\n",
      "    accuracy                           0.49       600\n",
      "   macro avg       0.49      0.49      0.49       600\n",
      "weighted avg       0.49      0.49      0.49       600\n",
      "\n"
     ]
    }
   ],
   "source": [
    "# Make predictions and generate a classification report\n",
    "predictions = updated_model.predict(test_generator)\n",
    "predicted_classes = np.round(predictions)\n",
    "\n",
    "accuracy = accuracy_score(true_classes, predicted_classes)\n",
    "precision = precision_score(true_classes, predicted_classes)\n",
    "recall = recall_score(true_classes, predicted_classes)\n",
    "f1 = f1_score(true_classes, predicted_classes)\n",
    "\n",
    "print(f\"Test Accuracy: {accuracy}\")\n",
    "print(f\"Precision: {precision}\")\n",
    "print(f\"Recall: {recall}\")\n",
    "print(f\"F1-Score: {f1}\")\n",
    "\n",
    "report = classification_report(true_classes, predicted_classes, target_names=class_labels)\n",
    "print(report)\n"
   ]
  },
  {
   "cell_type": "code",
   "execution_count": null,
   "id": "0e567509",
   "metadata": {},
   "outputs": [],
   "source": []
  }
 ],
 "metadata": {
  "kernelspec": {
   "display_name": "Python 3 (ipykernel)",
   "language": "python",
   "name": "python3"
  },
  "language_info": {
   "codemirror_mode": {
    "name": "ipython",
    "version": 3
   },
   "file_extension": ".py",
   "mimetype": "text/x-python",
   "name": "python",
   "nbconvert_exporter": "python",
   "pygments_lexer": "ipython3",
   "version": "3.10.9"
  }
 },
 "nbformat": 4,
 "nbformat_minor": 5
}
